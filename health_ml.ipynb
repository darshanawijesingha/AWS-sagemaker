{
 "cells": [
  {
   "cell_type": "code",
   "execution_count": null,
   "id": "e931deef-0738-4a31-97d2-9c56afaf66c6",
   "metadata": {
    "execution": {
     "iopub.execute_input": "2025-08-25T07:18:47.841874Z",
     "iopub.status.busy": "2025-08-25T07:18:47.841430Z",
     "iopub.status.idle": "2025-08-25T07:18:50.594426Z",
     "shell.execute_reply": "2025-08-25T07:18:50.593719Z",
     "shell.execute_reply.started": "2025-08-25T07:18:47.841847Z"
    }
   },
   "outputs": [],
   "source": [
    "import boto3, botocore ,sagemaker\n",
    "import pandas as pd\n",
    "import numpy as np\n",
    "from matplotlib import pyplot as plt\n",
    "from sklearn.model_selection import train_test_split\n",
    "from sklearn.linear_model import LogisticRegression\n",
    "from sklearn.metrics import classification_report, accuracy_score\n",
    "from sklearn.model_selection import GridSearchCV\n"
   ]
  },
  {
   "cell_type": "markdown",
   "id": "d4c042bc-5fc0-4a5c-9131-8db2a5b13288",
   "metadata": {
    "execution": {
     "iopub.execute_input": "2025-08-24T18:42:55.166065Z",
     "iopub.status.busy": "2025-08-24T18:42:55.165810Z",
     "iopub.status.idle": "2025-08-24T18:42:55.169345Z",
     "shell.execute_reply": "2025-08-24T18:42:55.168580Z",
     "shell.execute_reply.started": "2025-08-24T18:42:55.166044Z"
    }
   },
   "source": [
    "### find the bucket exist "
   ]
  },
  {
   "cell_type": "code",
   "execution_count": null,
   "id": "ca4b8a01-4f09-43ba-8dfe-364fc1ab3545",
   "metadata": {
    "execution": {
     "iopub.execute_input": "2025-08-25T07:18:50.599497Z",
     "iopub.status.busy": "2025-08-25T07:18:50.599242Z",
     "iopub.status.idle": "2025-08-25T07:18:51.356780Z",
     "shell.execute_reply": "2025-08-25T07:18:51.356019Z",
     "shell.execute_reply.started": "2025-08-25T07:18:50.599476Z"
    }
   },
   "outputs": [],
   "source": [
    "\n",
    "sagemaker_session = sagemaker.Session()\n",
    "bucket = sagemaker_session.default_bucket()  # auto-managed bucket\n",
    "\n",
    "print(\"Default bucket:\", bucket)\n"
   ]
  },
  {
   "cell_type": "markdown",
   "id": "4acb31fa-a358-4c6e-a9be-2855ec4fd799",
   "metadata": {},
   "source": [
    "### uploade the bucket "
   ]
  },
  {
   "cell_type": "code",
   "execution_count": null,
   "id": "27630f25-440d-44ad-ac21-71c5ce239ea1",
   "metadata": {
    "execution": {
     "iopub.execute_input": "2025-08-24T18:34:24.337068Z",
     "iopub.status.busy": "2025-08-24T18:34:24.336771Z",
     "iopub.status.idle": "2025-08-24T18:34:24.457813Z",
     "shell.execute_reply": "2025-08-24T18:34:24.457088Z",
     "shell.execute_reply.started": "2025-08-24T18:34:24.337037Z"
    }
   },
   "outputs": [],
   "source": [
    "\n",
    "\n",
    "s3 = boto3.client(\"s3\")\n",
    "s3.upload_file(\"heart.csv\", bucket, \"data/heart.csv\")\n",
    "\n",
    "s3_path = f\"s3://{bucket}/data/heart.csv\"\n",
    "print(\"Uploaded to:\", s3_path)\n"
   ]
  },
  {
   "cell_type": "markdown",
   "id": "b9d08699-0c2b-40a1-a73a-e993a4e4bdb8",
   "metadata": {},
   "source": [
    "### if data set exist no need to upload same , make exception"
   ]
  },
  {
   "cell_type": "code",
   "execution_count": null,
   "id": "05dd5b37-e52c-46ab-8d9b-046ed5a25d10",
   "metadata": {
    "execution": {
     "iopub.execute_input": "2025-08-25T07:18:51.360839Z",
     "iopub.status.busy": "2025-08-25T07:18:51.360560Z",
     "iopub.status.idle": "2025-08-25T07:18:51.488672Z",
     "shell.execute_reply": "2025-08-25T07:18:51.487899Z",
     "shell.execute_reply.started": "2025-08-25T07:18:51.360811Z"
    }
   },
   "outputs": [],
   "source": [
    "s3 = boto3.client(\"s3\")\n",
    "\n",
    "bucket = \"add bucket name\"\n",
    "key = \"data/heart.csv\"\n",
    "local_file = \"heart.csv\"\n",
    "\n",
    "try:\n",
    "    s3.head_object(Bucket=bucket, Key=key)\n",
    "    print(f\"⚠️ File already exists in S3, skipping upload: s3://{bucket}/{key}\")\n",
    "except botocore.exceptions.ClientError as e:\n",
    "    if e.response['Error']['Code'] == \"404\":\n",
    "        s3.upload_file(local_file, bucket, key)\n",
    "        print(f\"✅ Uploaded to: s3://{bucket}/{key}\")\n",
    "    else:\n",
    "        raise"
   ]
  },
  {
   "cell_type": "markdown",
   "id": "8bb4fe25-d8b7-4f5e-a38b-71d4350d4a54",
   "metadata": {},
   "source": [
    "### import datadrame from s3"
   ]
  },
  {
   "cell_type": "code",
   "execution_count": null,
   "id": "c693314b-dd99-4d32-a932-95cf78a96d55",
   "metadata": {
    "execution": {
     "iopub.execute_input": "2025-08-25T07:18:51.493867Z",
     "iopub.status.busy": "2025-08-25T07:18:51.493650Z",
     "iopub.status.idle": "2025-08-25T07:18:51.766840Z",
     "shell.execute_reply": "2025-08-25T07:18:51.765932Z",
     "shell.execute_reply.started": "2025-08-25T07:18:51.493847Z"
    }
   },
   "outputs": [],
   "source": [
    "import pandas as pd\n",
    "\n",
    "bucket = \"add bucket name\"\n",
    "key = \"data/heart.csv\"\n",
    "s3_path = f\"s3://{bucket}/{key}\"\n",
    "\n",
    "df = pd.read_csv(s3_path)\n",
    "print(df.head())\n"
   ]
  },
  {
   "cell_type": "markdown",
   "id": "645b4cce-981e-4b03-aaba-fff0cba5d3dc",
   "metadata": {},
   "source": [
    "## EDA"
   ]
  },
  {
   "cell_type": "code",
   "execution_count": 5,
   "id": "bd167e87-7c8c-4687-b266-2a37b9ed3b83",
   "metadata": {
    "execution": {
     "iopub.execute_input": "2025-08-25T07:18:51.771865Z",
     "iopub.status.busy": "2025-08-25T07:18:51.771636Z",
     "iopub.status.idle": "2025-08-25T07:18:53.673929Z",
     "shell.execute_reply": "2025-08-25T07:18:53.673166Z",
     "shell.execute_reply.started": "2025-08-25T07:18:51.771846Z"
    }
   },
   "outputs": [
    {
     "data": {
      "text/html": [
       "<div>\n",
       "<style scoped>\n",
       "    .dataframe tbody tr th:only-of-type {\n",
       "        vertical-align: middle;\n",
       "    }\n",
       "\n",
       "    .dataframe tbody tr th {\n",
       "        vertical-align: top;\n",
       "    }\n",
       "\n",
       "    .dataframe thead th {\n",
       "        text-align: right;\n",
       "    }\n",
       "</style>\n",
       "<table border=\"1\" class=\"dataframe\">\n",
       "  <thead>\n",
       "    <tr style=\"text-align: right;\">\n",
       "      <th></th>\n",
       "      <th>age</th>\n",
       "      <th>sex</th>\n",
       "      <th>cp</th>\n",
       "      <th>trestbps</th>\n",
       "      <th>chol</th>\n",
       "      <th>fbs</th>\n",
       "      <th>restecg</th>\n",
       "      <th>thalach</th>\n",
       "      <th>exang</th>\n",
       "      <th>oldpeak</th>\n",
       "      <th>slope</th>\n",
       "      <th>ca</th>\n",
       "      <th>thal</th>\n",
       "      <th>target</th>\n",
       "    </tr>\n",
       "  </thead>\n",
       "  <tbody>\n",
       "    <tr>\n",
       "      <th>70</th>\n",
       "      <td>54</td>\n",
       "      <td>1</td>\n",
       "      <td>2</td>\n",
       "      <td>120</td>\n",
       "      <td>258</td>\n",
       "      <td>0</td>\n",
       "      <td>0</td>\n",
       "      <td>147</td>\n",
       "      <td>0</td>\n",
       "      <td>0.4</td>\n",
       "      <td>1</td>\n",
       "      <td>0</td>\n",
       "      <td>3</td>\n",
       "      <td>1</td>\n",
       "    </tr>\n",
       "    <tr>\n",
       "      <th>141</th>\n",
       "      <td>43</td>\n",
       "      <td>1</td>\n",
       "      <td>0</td>\n",
       "      <td>115</td>\n",
       "      <td>303</td>\n",
       "      <td>0</td>\n",
       "      <td>1</td>\n",
       "      <td>181</td>\n",
       "      <td>0</td>\n",
       "      <td>1.2</td>\n",
       "      <td>1</td>\n",
       "      <td>0</td>\n",
       "      <td>2</td>\n",
       "      <td>1</td>\n",
       "    </tr>\n",
       "    <tr>\n",
       "      <th>300</th>\n",
       "      <td>68</td>\n",
       "      <td>1</td>\n",
       "      <td>0</td>\n",
       "      <td>144</td>\n",
       "      <td>193</td>\n",
       "      <td>1</td>\n",
       "      <td>1</td>\n",
       "      <td>141</td>\n",
       "      <td>0</td>\n",
       "      <td>3.4</td>\n",
       "      <td>1</td>\n",
       "      <td>2</td>\n",
       "      <td>3</td>\n",
       "      <td>0</td>\n",
       "    </tr>\n",
       "    <tr>\n",
       "      <th>213</th>\n",
       "      <td>61</td>\n",
       "      <td>0</td>\n",
       "      <td>0</td>\n",
       "      <td>145</td>\n",
       "      <td>307</td>\n",
       "      <td>0</td>\n",
       "      <td>0</td>\n",
       "      <td>146</td>\n",
       "      <td>1</td>\n",
       "      <td>1.0</td>\n",
       "      <td>1</td>\n",
       "      <td>0</td>\n",
       "      <td>3</td>\n",
       "      <td>0</td>\n",
       "    </tr>\n",
       "    <tr>\n",
       "      <th>111</th>\n",
       "      <td>57</td>\n",
       "      <td>1</td>\n",
       "      <td>2</td>\n",
       "      <td>150</td>\n",
       "      <td>126</td>\n",
       "      <td>1</td>\n",
       "      <td>1</td>\n",
       "      <td>173</td>\n",
       "      <td>0</td>\n",
       "      <td>0.2</td>\n",
       "      <td>2</td>\n",
       "      <td>1</td>\n",
       "      <td>3</td>\n",
       "      <td>1</td>\n",
       "    </tr>\n",
       "  </tbody>\n",
       "</table>\n",
       "</div>"
      ],
      "text/plain": [
       "     age  sex  cp  trestbps  chol  fbs  restecg  thalach  exang  oldpeak  \\\n",
       "70    54    1   2       120   258    0        0      147      0      0.4   \n",
       "141   43    1   0       115   303    0        1      181      0      1.2   \n",
       "300   68    1   0       144   193    1        1      141      0      3.4   \n",
       "213   61    0   0       145   307    0        0      146      1      1.0   \n",
       "111   57    1   2       150   126    1        1      173      0      0.2   \n",
       "\n",
       "     slope  ca  thal  target  \n",
       "70       1   0     3       1  \n",
       "141      1   0     2       1  \n",
       "300      1   2     3       0  \n",
       "213      1   0     3       0  \n",
       "111      2   1     3       1  "
      ]
     },
     "metadata": {},
     "output_type": "display_data"
    },
    {
     "data": {
      "text/html": [
       "<div>\n",
       "<style scoped>\n",
       "    .dataframe tbody tr th:only-of-type {\n",
       "        vertical-align: middle;\n",
       "    }\n",
       "\n",
       "    .dataframe tbody tr th {\n",
       "        vertical-align: top;\n",
       "    }\n",
       "\n",
       "    .dataframe thead th {\n",
       "        text-align: right;\n",
       "    }\n",
       "</style>\n",
       "<table border=\"1\" class=\"dataframe\">\n",
       "  <thead>\n",
       "    <tr style=\"text-align: right;\">\n",
       "      <th></th>\n",
       "      <th>count</th>\n",
       "      <th>mean</th>\n",
       "      <th>std</th>\n",
       "      <th>min</th>\n",
       "      <th>25%</th>\n",
       "      <th>50%</th>\n",
       "      <th>75%</th>\n",
       "      <th>max</th>\n",
       "    </tr>\n",
       "  </thead>\n",
       "  <tbody>\n",
       "    <tr>\n",
       "      <th>age</th>\n",
       "      <td>303.0</td>\n",
       "      <td>54.366337</td>\n",
       "      <td>9.082101</td>\n",
       "      <td>29.0</td>\n",
       "      <td>47.5</td>\n",
       "      <td>55.0</td>\n",
       "      <td>61.0</td>\n",
       "      <td>77.0</td>\n",
       "    </tr>\n",
       "    <tr>\n",
       "      <th>sex</th>\n",
       "      <td>303.0</td>\n",
       "      <td>0.683168</td>\n",
       "      <td>0.466011</td>\n",
       "      <td>0.0</td>\n",
       "      <td>0.0</td>\n",
       "      <td>1.0</td>\n",
       "      <td>1.0</td>\n",
       "      <td>1.0</td>\n",
       "    </tr>\n",
       "    <tr>\n",
       "      <th>cp</th>\n",
       "      <td>303.0</td>\n",
       "      <td>0.966997</td>\n",
       "      <td>1.032052</td>\n",
       "      <td>0.0</td>\n",
       "      <td>0.0</td>\n",
       "      <td>1.0</td>\n",
       "      <td>2.0</td>\n",
       "      <td>3.0</td>\n",
       "    </tr>\n",
       "    <tr>\n",
       "      <th>trestbps</th>\n",
       "      <td>303.0</td>\n",
       "      <td>131.623762</td>\n",
       "      <td>17.538143</td>\n",
       "      <td>94.0</td>\n",
       "      <td>120.0</td>\n",
       "      <td>130.0</td>\n",
       "      <td>140.0</td>\n",
       "      <td>200.0</td>\n",
       "    </tr>\n",
       "    <tr>\n",
       "      <th>chol</th>\n",
       "      <td>303.0</td>\n",
       "      <td>246.264026</td>\n",
       "      <td>51.830751</td>\n",
       "      <td>126.0</td>\n",
       "      <td>211.0</td>\n",
       "      <td>240.0</td>\n",
       "      <td>274.5</td>\n",
       "      <td>564.0</td>\n",
       "    </tr>\n",
       "    <tr>\n",
       "      <th>fbs</th>\n",
       "      <td>303.0</td>\n",
       "      <td>0.148515</td>\n",
       "      <td>0.356198</td>\n",
       "      <td>0.0</td>\n",
       "      <td>0.0</td>\n",
       "      <td>0.0</td>\n",
       "      <td>0.0</td>\n",
       "      <td>1.0</td>\n",
       "    </tr>\n",
       "    <tr>\n",
       "      <th>restecg</th>\n",
       "      <td>303.0</td>\n",
       "      <td>0.528053</td>\n",
       "      <td>0.525860</td>\n",
       "      <td>0.0</td>\n",
       "      <td>0.0</td>\n",
       "      <td>1.0</td>\n",
       "      <td>1.0</td>\n",
       "      <td>2.0</td>\n",
       "    </tr>\n",
       "    <tr>\n",
       "      <th>thalach</th>\n",
       "      <td>303.0</td>\n",
       "      <td>149.646865</td>\n",
       "      <td>22.905161</td>\n",
       "      <td>71.0</td>\n",
       "      <td>133.5</td>\n",
       "      <td>153.0</td>\n",
       "      <td>166.0</td>\n",
       "      <td>202.0</td>\n",
       "    </tr>\n",
       "    <tr>\n",
       "      <th>exang</th>\n",
       "      <td>303.0</td>\n",
       "      <td>0.326733</td>\n",
       "      <td>0.469794</td>\n",
       "      <td>0.0</td>\n",
       "      <td>0.0</td>\n",
       "      <td>0.0</td>\n",
       "      <td>1.0</td>\n",
       "      <td>1.0</td>\n",
       "    </tr>\n",
       "    <tr>\n",
       "      <th>oldpeak</th>\n",
       "      <td>303.0</td>\n",
       "      <td>1.039604</td>\n",
       "      <td>1.161075</td>\n",
       "      <td>0.0</td>\n",
       "      <td>0.0</td>\n",
       "      <td>0.8</td>\n",
       "      <td>1.6</td>\n",
       "      <td>6.2</td>\n",
       "    </tr>\n",
       "    <tr>\n",
       "      <th>slope</th>\n",
       "      <td>303.0</td>\n",
       "      <td>1.399340</td>\n",
       "      <td>0.616226</td>\n",
       "      <td>0.0</td>\n",
       "      <td>1.0</td>\n",
       "      <td>1.0</td>\n",
       "      <td>2.0</td>\n",
       "      <td>2.0</td>\n",
       "    </tr>\n",
       "    <tr>\n",
       "      <th>ca</th>\n",
       "      <td>303.0</td>\n",
       "      <td>0.729373</td>\n",
       "      <td>1.022606</td>\n",
       "      <td>0.0</td>\n",
       "      <td>0.0</td>\n",
       "      <td>0.0</td>\n",
       "      <td>1.0</td>\n",
       "      <td>4.0</td>\n",
       "    </tr>\n",
       "    <tr>\n",
       "      <th>thal</th>\n",
       "      <td>303.0</td>\n",
       "      <td>2.313531</td>\n",
       "      <td>0.612277</td>\n",
       "      <td>0.0</td>\n",
       "      <td>2.0</td>\n",
       "      <td>2.0</td>\n",
       "      <td>3.0</td>\n",
       "      <td>3.0</td>\n",
       "    </tr>\n",
       "    <tr>\n",
       "      <th>target</th>\n",
       "      <td>303.0</td>\n",
       "      <td>0.544554</td>\n",
       "      <td>0.498835</td>\n",
       "      <td>0.0</td>\n",
       "      <td>0.0</td>\n",
       "      <td>1.0</td>\n",
       "      <td>1.0</td>\n",
       "      <td>1.0</td>\n",
       "    </tr>\n",
       "  </tbody>\n",
       "</table>\n",
       "</div>"
      ],
      "text/plain": [
       "          count        mean        std    min    25%    50%    75%    max\n",
       "age       303.0   54.366337   9.082101   29.0   47.5   55.0   61.0   77.0\n",
       "sex       303.0    0.683168   0.466011    0.0    0.0    1.0    1.0    1.0\n",
       "cp        303.0    0.966997   1.032052    0.0    0.0    1.0    2.0    3.0\n",
       "trestbps  303.0  131.623762  17.538143   94.0  120.0  130.0  140.0  200.0\n",
       "chol      303.0  246.264026  51.830751  126.0  211.0  240.0  274.5  564.0\n",
       "fbs       303.0    0.148515   0.356198    0.0    0.0    0.0    0.0    1.0\n",
       "restecg   303.0    0.528053   0.525860    0.0    0.0    1.0    1.0    2.0\n",
       "thalach   303.0  149.646865  22.905161   71.0  133.5  153.0  166.0  202.0\n",
       "exang     303.0    0.326733   0.469794    0.0    0.0    0.0    1.0    1.0\n",
       "oldpeak   303.0    1.039604   1.161075    0.0    0.0    0.8    1.6    6.2\n",
       "slope     303.0    1.399340   0.616226    0.0    1.0    1.0    2.0    2.0\n",
       "ca        303.0    0.729373   1.022606    0.0    0.0    0.0    1.0    4.0\n",
       "thal      303.0    2.313531   0.612277    0.0    2.0    2.0    3.0    3.0\n",
       "target    303.0    0.544554   0.498835    0.0    0.0    1.0    1.0    1.0"
      ]
     },
     "metadata": {},
     "output_type": "display_data"
    },
    {
     "name": "stdout",
     "output_type": "stream",
     "text": [
      "<class 'pandas.core.frame.DataFrame'>\n",
      "RangeIndex: 303 entries, 0 to 302\n",
      "Data columns (total 14 columns):\n",
      " #   Column    Non-Null Count  Dtype  \n",
      "---  ------    --------------  -----  \n",
      " 0   age       303 non-null    int64  \n",
      " 1   sex       303 non-null    int64  \n",
      " 2   cp        303 non-null    int64  \n",
      " 3   trestbps  303 non-null    int64  \n",
      " 4   chol      303 non-null    int64  \n",
      " 5   fbs       303 non-null    int64  \n",
      " 6   restecg   303 non-null    int64  \n",
      " 7   thalach   303 non-null    int64  \n",
      " 8   exang     303 non-null    int64  \n",
      " 9   oldpeak   303 non-null    float64\n",
      " 10  slope     303 non-null    int64  \n",
      " 11  ca        303 non-null    int64  \n",
      " 12  thal      303 non-null    int64  \n",
      " 13  target    303 non-null    int64  \n",
      "dtypes: float64(1), int64(13)\n",
      "memory usage: 33.3 KB\n"
     ]
    },
    {
     "data": {
      "text/plain": [
       "age         0\n",
       "sex         0\n",
       "cp          0\n",
       "trestbps    0\n",
       "chol        0\n",
       "fbs         0\n",
       "restecg     0\n",
       "thalach     0\n",
       "exang       0\n",
       "oldpeak     0\n",
       "slope       0\n",
       "ca          0\n",
       "thal        0\n",
       "target      0\n",
       "dtype: int64"
      ]
     },
     "metadata": {},
     "output_type": "display_data"
    },
    {
     "data": {
      "image/png": "[encoded data removed]",
      "text/plain": [
       "<Figure size 1200x800 with 16 Axes>"
      ]
     },
     "metadata": {},
     "output_type": "display_data"
    },
    {
     "data": {
      "image/png": "[encoded data removed]",
      "text/plain": [
       "<Figure size 640x480 with 2 Axes>"
      ]
     },
     "metadata": {},
     "output_type": "display_data"
    }
   ],
   "source": [
    "\n",
    "display(df.sample(min(5, len(df))))\n",
    "display(df.describe(include='all').T)\n",
    "df.info()\n",
    "\n",
    "na_counts = df.isna().sum().sort_values(ascending=False)\n",
    "display(na_counts.head(20))\n",
    "\n",
    "# Optional: quick numeric distributions\n",
    "numeric_cols = df.select_dtypes(include=[np.number]).columns.tolist()\n",
    "if numeric_cols:\n",
    "    df[numeric_cols].hist(bins=20, figsize=(12, 8))\n",
    "    plt.suptitle(\"Numeric Feature Distributions\"); plt.show()\n",
    "\n",
    "# Optional: correlation heatmap (if enough numeric columns)\n",
    "if len(numeric_cols) > 1:\n",
    "    corr = df[numeric_cols].corr(numeric_only=True)\n",
    "    plt.imshow(corr, interpolation='nearest')\n",
    "    plt.title(\"Correlation Heatmap\")\n",
    "    plt.xticks(range(len(numeric_cols)), numeric_cols, rotation=90)\n",
    "    plt.yticks(range(len(numeric_cols)), numeric_cols)\n",
    "    plt.colorbar()\n",
    "    plt.tight_layout()\n",
    "    plt.show()\n"
   ]
  },
  {
   "cell_type": "markdown",
   "id": "385713bc-ae58-481b-97a7-78f868b44a47",
   "metadata": {},
   "source": [
    "## make split and test train"
   ]
  },
  {
   "cell_type": "code",
   "execution_count": 6,
   "id": "d33a6bf6-f6c0-4458-8c3d-9aca08990153",
   "metadata": {
    "execution": {
     "iopub.execute_input": "2025-08-25T07:18:53.677426Z",
     "iopub.status.busy": "2025-08-25T07:18:53.677142Z",
     "iopub.status.idle": "2025-08-25T07:18:53.686206Z",
     "shell.execute_reply": "2025-08-25T07:18:53.685400Z",
     "shell.execute_reply.started": "2025-08-25T07:18:53.677397Z"
    }
   },
   "outputs": [
    {
     "name": "stdout",
     "output_type": "stream",
     "text": [
      "✅ Train/Test split done\n"
     ]
    }
   ],
   "source": [
    "from sklearn.model_selection import train_test_split\n",
    "import os\n",
    "\n",
    "# Features and target\n",
    "X = df.drop(\"target\", axis=1)   # assuming column 'target' is the label\n",
    "y = df[\"target\"]\n",
    "\n",
    "# Cell 5: Train/Test Split\n",
    "X = df.drop(\"target\", axis=1)\n",
    "y = df[\"target\"]\n",
    "\n",
    "X_train, X_test, y_train, y_test = train_test_split(X, y, test_size=0.2, random_state=42)\n",
    "\n",
    "print(\"✅ Train/Test split done\")\n",
    "\n",
    "\n"
   ]
  },
  {
   "cell_type": "code",
   "execution_count": 7,
   "id": "75ab6fd5-9737-4219-8648-78797c849c16",
   "metadata": {
    "execution": {
     "iopub.execute_input": "2025-08-25T07:18:53.687397Z",
     "iopub.status.busy": "2025-08-25T07:18:53.687100Z",
     "iopub.status.idle": "2025-08-25T07:18:53.854067Z",
     "shell.execute_reply": "2025-08-25T07:18:53.853291Z",
     "shell.execute_reply.started": "2025-08-25T07:18:53.687370Z"
    }
   },
   "outputs": [
    {
     "name": "stdout",
     "output_type": "stream",
     "text": [
      "🔎 Baseline Model Performance:\n",
      "Accuracy: 0.8688524590163934\n",
      "              precision    recall  f1-score   support\n",
      "\n",
      "           0       0.86      0.86      0.86        29\n",
      "           1       0.88      0.88      0.88        32\n",
      "\n",
      "    accuracy                           0.87        61\n",
      "   macro avg       0.87      0.87      0.87        61\n",
      "weighted avg       0.87      0.87      0.87        61\n",
      "\n"
     ]
    }
   ],
   "source": [
    "# Cell 6: Logistic Regression (baseline)\n",
    "lr = LogisticRegression(max_iter=1000)\n",
    "lr.fit(X_train, y_train)\n",
    "\n",
    "y_pred = lr.predict(X_test)\n",
    "\n",
    "print(\"🔎 Baseline Model Performance:\")\n",
    "print(\"Accuracy:\", accuracy_score(y_test, y_pred))\n",
    "print(classification_report(y_test, y_pred))\n"
   ]
  },
  {
   "cell_type": "markdown",
   "id": "7fde6852-50e2-43c9-bd01-62a40cf701ca",
   "metadata": {
    "execution": {
     "iopub.execute_input": "2025-08-24T18:50:36.824787Z",
     "iopub.status.busy": "2025-08-24T18:50:36.824516Z",
     "iopub.status.idle": "2025-08-24T18:50:36.827400Z",
     "shell.execute_reply": "2025-08-24T18:50:36.826776Z",
     "shell.execute_reply.started": "2025-08-24T18:50:36.824765Z"
    }
   },
   "source": [
    "### fine tune "
   ]
  },
  {
   "cell_type": "code",
   "execution_count": 8,
   "id": "eb5980cf-52c0-4b96-9d14-7984c737bbc0",
   "metadata": {
    "execution": {
     "iopub.execute_input": "2025-08-25T07:18:53.855079Z",
     "iopub.status.busy": "2025-08-25T07:18:53.854814Z",
     "iopub.status.idle": "2025-08-25T07:18:55.026753Z",
     "shell.execute_reply": "2025-08-25T07:18:55.025997Z",
     "shell.execute_reply.started": "2025-08-25T07:18:53.855052Z"
    }
   },
   "outputs": [
    {
     "name": "stdout",
     "output_type": "stream",
     "text": [
      "✅ Best Parameters: {'C': 1, 'solver': 'liblinear'}\n",
      "✅ Best CV Score: 0.8059670781893004\n",
      "🔎 Tuned Model Performance:\n",
      "Accuracy: 0.8688524590163934\n",
      "              precision    recall  f1-score   support\n",
      "\n",
      "           0       0.86      0.86      0.86        29\n",
      "           1       0.88      0.88      0.88        32\n",
      "\n",
      "    accuracy                           0.87        61\n",
      "   macro avg       0.87      0.87      0.87        61\n",
      "weighted avg       0.87      0.87      0.87        61\n",
      "\n"
     ]
    }
   ],
   "source": [
    "# Cell 7: Hyperparameter Tuning with GridSearchCV\n",
    "param_grid = {\n",
    "    \"C\": [0.01, 0.1, 1, 10],\n",
    "    \"solver\": [\"liblinear\", \"lbfgs\"]\n",
    "}\n",
    "\n",
    "grid = GridSearchCV(LogisticRegression(max_iter=1000), param_grid, cv=3, scoring=\"accuracy\")\n",
    "grid.fit(X_train, y_train)\n",
    "\n",
    "print(\"✅ Best Parameters:\", grid.best_params_)\n",
    "print(\"✅ Best CV Score:\", grid.best_score_)\n",
    "\n",
    "# Evaluate best model\n",
    "best_model = grid.best_estimator_\n",
    "y_pred_best = best_model.predict(X_test)\n",
    "\n",
    "print(\"🔎 Tuned Model Performance:\")\n",
    "print(\"Accuracy:\", accuracy_score(y_test, y_pred_best))\n",
    "print(classification_report(y_test, y_pred_best))\n"
   ]
  },
  {
   "cell_type": "code",
   "execution_count": 11,
   "id": "e1502228-7ee8-4207-a620-cd11954a0047",
   "metadata": {
    "execution": {
     "iopub.execute_input": "2025-08-25T07:22:47.135389Z",
     "iopub.status.busy": "2025-08-25T07:22:47.135117Z",
     "iopub.status.idle": "2025-08-25T07:22:47.279015Z",
     "shell.execute_reply": "2025-08-25T07:22:47.278145Z",
     "shell.execute_reply.started": "2025-08-25T07:22:47.135368Z"
    }
   },
   "outputs": [
    {
     "data": {
      "image/png": "[encoded data removed]",
      "text/plain": [
       "<Figure size 640x480 with 2 Axes>"
      ]
     },
     "metadata": {},
     "output_type": "display_data"
    }
   ],
   "source": [
    "from sklearn.metrics import ConfusionMatrixDisplay\n",
    "import matplotlib.pyplot as plt\n",
    "\n",
    "ConfusionMatrixDisplay.from_estimator(best_model, X_test, y_test, cmap=\"Blues\")\n",
    "plt.title(\"Confusion Matrix - Best Logistic Regression\")\n",
    "plt.show()\n"
   ]
  },
  {
   "cell_type": "code",
   "execution_count": null,
   "id": "f6d5f99e-a3f0-43c1-9656-2b3fd69d97b4",
   "metadata": {
    "execution": {
     "iopub.execute_input": "2025-08-25T07:26:49.959998Z",
     "iopub.status.busy": "2025-08-25T07:26:49.959730Z",
     "iopub.status.idle": "2025-08-25T07:26:50.110752Z",
     "shell.execute_reply": "2025-08-25T07:26:50.109539Z",
     "shell.execute_reply.started": "2025-08-25T07:26:49.959979Z"
    }
   },
   "outputs": [],
   "source": [
    "import joblib\n",
    "import boto3\n",
    "import os\n",
    "\n",
    "# Local save\n",
    "model_path = \"best_logistic_model.pkl\"\n",
    "joblib.dump(best_model, model_path)\n",
    "print(f\"💾 Model saved locally at {model_path}\")\n",
    "\n",
    "# Upload to S3\n",
    "s3 = boto3.client(\"s3\")\n",
    "bucket_name = bucket\n",
    "s3_key = \"models/best_logistic_model.pkl\"\n",
    "\n",
    "s3.upload_file(model_path, bucket_name, s3_key)\n",
    "\n",
    "print(f\"📤 Model uploaded to s3://{bucket_name}/{s3_key}\")\n"
   ]
  },
  {
   "cell_type": "code",
   "execution_count": null,
   "id": "b97908bd-d0c0-437f-aa04-8db4dcc05c3b",
   "metadata": {},
   "outputs": [],
   "source": []
  }
 ],
 "metadata": {
  "kernelspec": {
   "display_name": "Python 3 (ipykernel)",
   "language": "python",
   "name": "python3"
  },
  "language_info": {
   "codemirror_mode": {
    "name": "ipython",
    "version": 3
   },
   "file_extension": ".py",
   "mimetype": "text/x-python",
   "name": "python",
   "nbconvert_exporter": "python",
   "pygments_lexer": "ipython3",
   "version": "3.11.11"
  }
 },
 "nbformat": 4,
 "nbformat_minor": 5
}
